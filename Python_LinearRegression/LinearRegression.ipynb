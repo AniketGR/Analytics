{
 "cells": [
  {
   "cell_type": "code",
   "execution_count": 26,
   "metadata": {},
   "outputs": [],
   "source": [
    "#libraries import\n",
    "import pandas as pd\n",
    "import numpy as np"
   ]
  },
  {
   "cell_type": "code",
   "execution_count": 48,
   "metadata": {},
   "outputs": [],
   "source": [
    "#Loading datasets\n",
    "loan_train = pd.read_csv(r\"C:/Users/anike/Desktop/DataScience Projects/LinearRegression/loan_data_train.csv\")\n",
    "loan_test = pd.read_csv(r\"C:/Users/anike/Desktop/DataScience Projects/LinearRegression/loan_data_test.csv\")"
   ]
  },
  {
   "cell_type": "code",
   "execution_count": 49,
   "metadata": {},
   "outputs": [
    {
     "data": {
      "text/html": [
       "<div>\n",
       "<style scoped>\n",
       "    .dataframe tbody tr th:only-of-type {\n",
       "        vertical-align: middle;\n",
       "    }\n",
       "\n",
       "    .dataframe tbody tr th {\n",
       "        vertical-align: top;\n",
       "    }\n",
       "\n",
       "    .dataframe thead th {\n",
       "        text-align: right;\n",
       "    }\n",
       "</style>\n",
       "<table border=\"1\" class=\"dataframe\">\n",
       "  <thead>\n",
       "    <tr style=\"text-align: right;\">\n",
       "      <th></th>\n",
       "      <th>ID</th>\n",
       "      <th>Amount.Requested</th>\n",
       "      <th>Amount.Funded.By.Investors</th>\n",
       "      <th>Interest.Rate</th>\n",
       "      <th>Loan.Length</th>\n",
       "      <th>Loan.Purpose</th>\n",
       "      <th>Debt.To.Income.Ratio</th>\n",
       "      <th>State</th>\n",
       "      <th>Home.Ownership</th>\n",
       "      <th>Monthly.Income</th>\n",
       "      <th>FICO.Range</th>\n",
       "      <th>Open.CREDIT.Lines</th>\n",
       "      <th>Revolving.CREDIT.Balance</th>\n",
       "      <th>Inquiries.in.the.Last.6.Months</th>\n",
       "      <th>Employment.Length</th>\n",
       "    </tr>\n",
       "  </thead>\n",
       "  <tbody>\n",
       "    <tr>\n",
       "      <th>0</th>\n",
       "      <td>79542.0</td>\n",
       "      <td>25000</td>\n",
       "      <td>25000</td>\n",
       "      <td>18.49%</td>\n",
       "      <td>60 months</td>\n",
       "      <td>debt_consolidation</td>\n",
       "      <td>27.56%</td>\n",
       "      <td>VA</td>\n",
       "      <td>MORTGAGE</td>\n",
       "      <td>8606.56</td>\n",
       "      <td>720-724</td>\n",
       "      <td>11</td>\n",
       "      <td>15210</td>\n",
       "      <td>3.0</td>\n",
       "      <td>5 years</td>\n",
       "    </tr>\n",
       "    <tr>\n",
       "      <th>1</th>\n",
       "      <td>75473.0</td>\n",
       "      <td>19750</td>\n",
       "      <td>19750</td>\n",
       "      <td>17.27%</td>\n",
       "      <td>60 months</td>\n",
       "      <td>debt_consolidation</td>\n",
       "      <td>13.39%</td>\n",
       "      <td>NY</td>\n",
       "      <td>MORTGAGE</td>\n",
       "      <td>6737.50</td>\n",
       "      <td>710-714</td>\n",
       "      <td>14</td>\n",
       "      <td>19070</td>\n",
       "      <td>3.0</td>\n",
       "      <td>4 years</td>\n",
       "    </tr>\n",
       "    <tr>\n",
       "      <th>2</th>\n",
       "      <td>67265.0</td>\n",
       "      <td>2100</td>\n",
       "      <td>2100</td>\n",
       "      <td>14.33%</td>\n",
       "      <td>36 months</td>\n",
       "      <td>major_purchase</td>\n",
       "      <td>3.50%</td>\n",
       "      <td>LA</td>\n",
       "      <td>OWN</td>\n",
       "      <td>1000.00</td>\n",
       "      <td>690-694</td>\n",
       "      <td>13</td>\n",
       "      <td>893</td>\n",
       "      <td>1.0</td>\n",
       "      <td>&lt; 1 year</td>\n",
       "    </tr>\n",
       "    <tr>\n",
       "      <th>3</th>\n",
       "      <td>80167.0</td>\n",
       "      <td>28000</td>\n",
       "      <td>28000</td>\n",
       "      <td>16.29%</td>\n",
       "      <td>36 months</td>\n",
       "      <td>credit_card</td>\n",
       "      <td>19.62%</td>\n",
       "      <td>NV</td>\n",
       "      <td>MORTGAGE</td>\n",
       "      <td>7083.33</td>\n",
       "      <td>710-714</td>\n",
       "      <td>12</td>\n",
       "      <td>38194</td>\n",
       "      <td>1.0</td>\n",
       "      <td>10+ years</td>\n",
       "    </tr>\n",
       "    <tr>\n",
       "      <th>4</th>\n",
       "      <td>17240.0</td>\n",
       "      <td>24250</td>\n",
       "      <td>17431.82</td>\n",
       "      <td>12.23%</td>\n",
       "      <td>60 months</td>\n",
       "      <td>credit_card</td>\n",
       "      <td>23.79%</td>\n",
       "      <td>OH</td>\n",
       "      <td>MORTGAGE</td>\n",
       "      <td>5833.33</td>\n",
       "      <td>730-734</td>\n",
       "      <td>6</td>\n",
       "      <td>31061</td>\n",
       "      <td>2.0</td>\n",
       "      <td>10+ years</td>\n",
       "    </tr>\n",
       "  </tbody>\n",
       "</table>\n",
       "</div>"
      ],
      "text/plain": [
       "        ID Amount.Requested Amount.Funded.By.Investors Interest.Rate  \\\n",
       "0  79542.0            25000                      25000        18.49%   \n",
       "1  75473.0            19750                      19750        17.27%   \n",
       "2  67265.0             2100                       2100        14.33%   \n",
       "3  80167.0            28000                      28000        16.29%   \n",
       "4  17240.0            24250                   17431.82        12.23%   \n",
       "\n",
       "  Loan.Length        Loan.Purpose Debt.To.Income.Ratio State Home.Ownership  \\\n",
       "0   60 months  debt_consolidation               27.56%    VA       MORTGAGE   \n",
       "1   60 months  debt_consolidation               13.39%    NY       MORTGAGE   \n",
       "2   36 months      major_purchase                3.50%    LA            OWN   \n",
       "3   36 months         credit_card               19.62%    NV       MORTGAGE   \n",
       "4   60 months         credit_card               23.79%    OH       MORTGAGE   \n",
       "\n",
       "   Monthly.Income FICO.Range Open.CREDIT.Lines Revolving.CREDIT.Balance  \\\n",
       "0         8606.56    720-724                11                    15210   \n",
       "1         6737.50    710-714                14                    19070   \n",
       "2         1000.00    690-694                13                      893   \n",
       "3         7083.33    710-714                12                    38194   \n",
       "4         5833.33    730-734                 6                    31061   \n",
       "\n",
       "   Inquiries.in.the.Last.6.Months Employment.Length  \n",
       "0                             3.0           5 years  \n",
       "1                             3.0           4 years  \n",
       "2                             1.0          < 1 year  \n",
       "3                             1.0         10+ years  \n",
       "4                             2.0         10+ years  "
      ]
     },
     "execution_count": 49,
     "metadata": {},
     "output_type": "execute_result"
    }
   ],
   "source": [
    "loan_train.head()"
   ]
  },
  {
   "cell_type": "code",
   "execution_count": 29,
   "metadata": {},
   "outputs": [
    {
     "data": {
      "text/html": [
       "<div>\n",
       "<style scoped>\n",
       "    .dataframe tbody tr th:only-of-type {\n",
       "        vertical-align: middle;\n",
       "    }\n",
       "\n",
       "    .dataframe tbody tr th {\n",
       "        vertical-align: top;\n",
       "    }\n",
       "\n",
       "    .dataframe thead th {\n",
       "        text-align: right;\n",
       "    }\n",
       "</style>\n",
       "<table border=\"1\" class=\"dataframe\">\n",
       "  <thead>\n",
       "    <tr style=\"text-align: right;\">\n",
       "      <th></th>\n",
       "      <th>ID</th>\n",
       "      <th>Amount.Requested</th>\n",
       "      <th>Amount.Funded.By.Investors</th>\n",
       "      <th>Loan.Length</th>\n",
       "      <th>Loan.Purpose</th>\n",
       "      <th>Debt.To.Income.Ratio</th>\n",
       "      <th>State</th>\n",
       "      <th>Home.Ownership</th>\n",
       "      <th>Monthly.Income</th>\n",
       "      <th>FICO.Range</th>\n",
       "      <th>Open.CREDIT.Lines</th>\n",
       "      <th>Revolving.CREDIT.Balance</th>\n",
       "      <th>Inquiries.in.the.Last.6.Months</th>\n",
       "      <th>Employment.Length</th>\n",
       "    </tr>\n",
       "  </thead>\n",
       "  <tbody>\n",
       "    <tr>\n",
       "      <th>0</th>\n",
       "      <td>20093</td>\n",
       "      <td>5000</td>\n",
       "      <td>5000</td>\n",
       "      <td>60 months</td>\n",
       "      <td>moving</td>\n",
       "      <td>12.59%</td>\n",
       "      <td>NY</td>\n",
       "      <td>RENT</td>\n",
       "      <td>4416.67</td>\n",
       "      <td>690-694</td>\n",
       "      <td>13</td>\n",
       "      <td>7686</td>\n",
       "      <td>0</td>\n",
       "      <td>&lt; 1 year</td>\n",
       "    </tr>\n",
       "    <tr>\n",
       "      <th>1</th>\n",
       "      <td>62445</td>\n",
       "      <td>18000</td>\n",
       "      <td>18000</td>\n",
       "      <td>60 months</td>\n",
       "      <td>debt_consolidation</td>\n",
       "      <td>4.93%</td>\n",
       "      <td>CA</td>\n",
       "      <td>RENT</td>\n",
       "      <td>5258.50</td>\n",
       "      <td>710-714</td>\n",
       "      <td>6</td>\n",
       "      <td>11596</td>\n",
       "      <td>0</td>\n",
       "      <td>10+ years</td>\n",
       "    </tr>\n",
       "    <tr>\n",
       "      <th>2</th>\n",
       "      <td>65248</td>\n",
       "      <td>7200</td>\n",
       "      <td>7200</td>\n",
       "      <td>60 months</td>\n",
       "      <td>debt_consolidation</td>\n",
       "      <td>25.16%</td>\n",
       "      <td>LA</td>\n",
       "      <td>MORTGAGE</td>\n",
       "      <td>3750.00</td>\n",
       "      <td>750-754</td>\n",
       "      <td>13</td>\n",
       "      <td>7283</td>\n",
       "      <td>0</td>\n",
       "      <td>6 years</td>\n",
       "    </tr>\n",
       "    <tr>\n",
       "      <th>3</th>\n",
       "      <td>81822</td>\n",
       "      <td>7200</td>\n",
       "      <td>7200</td>\n",
       "      <td>36 months</td>\n",
       "      <td>debt_consolidation</td>\n",
       "      <td>17.27%</td>\n",
       "      <td>NY</td>\n",
       "      <td>MORTGAGE</td>\n",
       "      <td>3416.67</td>\n",
       "      <td>790-794</td>\n",
       "      <td>14</td>\n",
       "      <td>4838</td>\n",
       "      <td>0</td>\n",
       "      <td>10+ years</td>\n",
       "    </tr>\n",
       "    <tr>\n",
       "      <th>4</th>\n",
       "      <td>57923</td>\n",
       "      <td>22000</td>\n",
       "      <td>22000</td>\n",
       "      <td>60 months</td>\n",
       "      <td>debt_consolidation</td>\n",
       "      <td>18.28%</td>\n",
       "      <td>MI</td>\n",
       "      <td>MORTGAGE</td>\n",
       "      <td>6083.33</td>\n",
       "      <td>720-724</td>\n",
       "      <td>9</td>\n",
       "      <td>20181</td>\n",
       "      <td>0</td>\n",
       "      <td>8 years</td>\n",
       "    </tr>\n",
       "  </tbody>\n",
       "</table>\n",
       "</div>"
      ],
      "text/plain": [
       "      ID  Amount.Requested Amount.Funded.By.Investors Loan.Length  \\\n",
       "0  20093              5000                       5000   60 months   \n",
       "1  62445             18000                      18000   60 months   \n",
       "2  65248              7200                       7200   60 months   \n",
       "3  81822              7200                       7200   36 months   \n",
       "4  57923             22000                      22000   60 months   \n",
       "\n",
       "         Loan.Purpose Debt.To.Income.Ratio State Home.Ownership  \\\n",
       "0              moving               12.59%    NY           RENT   \n",
       "1  debt_consolidation                4.93%    CA           RENT   \n",
       "2  debt_consolidation               25.16%    LA       MORTGAGE   \n",
       "3  debt_consolidation               17.27%    NY       MORTGAGE   \n",
       "4  debt_consolidation               18.28%    MI       MORTGAGE   \n",
       "\n",
       "   Monthly.Income FICO.Range Open.CREDIT.Lines  Revolving.CREDIT.Balance  \\\n",
       "0         4416.67    690-694                13                      7686   \n",
       "1         5258.50    710-714                 6                     11596   \n",
       "2         3750.00    750-754                13                      7283   \n",
       "3         3416.67    790-794                14                      4838   \n",
       "4         6083.33    720-724                 9                     20181   \n",
       "\n",
       "   Inquiries.in.the.Last.6.Months Employment.Length  \n",
       "0                               0          < 1 year  \n",
       "1                               0         10+ years  \n",
       "2                               0           6 years  \n",
       "3                               0         10+ years  \n",
       "4                               0           8 years  "
      ]
     },
     "execution_count": 29,
     "metadata": {},
     "output_type": "execute_result"
    }
   ],
   "source": [
    "loan_test.head()"
   ]
  },
  {
   "cell_type": "code",
   "execution_count": 30,
   "metadata": {},
   "outputs": [
    {
     "data": {
      "text/plain": [
       "15"
      ]
     },
     "execution_count": 30,
     "metadata": {},
     "output_type": "execute_result"
    }
   ],
   "source": [
    "len(loan_train.columns)"
   ]
  },
  {
   "cell_type": "code",
   "execution_count": 31,
   "metadata": {},
   "outputs": [
    {
     "data": {
      "text/plain": [
       "14"
      ]
     },
     "execution_count": 31,
     "metadata": {},
     "output_type": "execute_result"
    }
   ],
   "source": [
    "len(loan_test.columns)"
   ]
  },
  {
   "cell_type": "code",
   "execution_count": 50,
   "metadata": {},
   "outputs": [],
   "source": [
    "#Merging both the train and test dataset \n",
    "loan_test[\"Interest.Rate\"] = np.nan\n",
    "loan_test[\"data\"] = \"test\"\n",
    "loan_train[\"data\"] = \"train\"\n",
    "loan_test = loan_test[loan_train.columns]\n",
    "ld_all = pd.concat([loan_train,loan_test],axis = 0)"
   ]
  },
  {
   "cell_type": "code",
   "execution_count": 51,
   "metadata": {},
   "outputs": [
    {
     "data": {
      "text/html": [
       "<div>\n",
       "<style scoped>\n",
       "    .dataframe tbody tr th:only-of-type {\n",
       "        vertical-align: middle;\n",
       "    }\n",
       "\n",
       "    .dataframe tbody tr th {\n",
       "        vertical-align: top;\n",
       "    }\n",
       "\n",
       "    .dataframe thead th {\n",
       "        text-align: right;\n",
       "    }\n",
       "</style>\n",
       "<table border=\"1\" class=\"dataframe\">\n",
       "  <thead>\n",
       "    <tr style=\"text-align: right;\">\n",
       "      <th></th>\n",
       "      <th>ID</th>\n",
       "      <th>Amount.Requested</th>\n",
       "      <th>Amount.Funded.By.Investors</th>\n",
       "      <th>Interest.Rate</th>\n",
       "      <th>Loan.Length</th>\n",
       "      <th>Loan.Purpose</th>\n",
       "      <th>Debt.To.Income.Ratio</th>\n",
       "      <th>State</th>\n",
       "      <th>Home.Ownership</th>\n",
       "      <th>Monthly.Income</th>\n",
       "      <th>FICO.Range</th>\n",
       "      <th>Open.CREDIT.Lines</th>\n",
       "      <th>Revolving.CREDIT.Balance</th>\n",
       "      <th>Inquiries.in.the.Last.6.Months</th>\n",
       "      <th>Employment.Length</th>\n",
       "      <th>data</th>\n",
       "    </tr>\n",
       "  </thead>\n",
       "  <tbody>\n",
       "    <tr>\n",
       "      <th>0</th>\n",
       "      <td>79542.0</td>\n",
       "      <td>25000</td>\n",
       "      <td>25000</td>\n",
       "      <td>18.49%</td>\n",
       "      <td>60 months</td>\n",
       "      <td>debt_consolidation</td>\n",
       "      <td>27.56%</td>\n",
       "      <td>VA</td>\n",
       "      <td>MORTGAGE</td>\n",
       "      <td>8606.56</td>\n",
       "      <td>720-724</td>\n",
       "      <td>11</td>\n",
       "      <td>15210</td>\n",
       "      <td>3.0</td>\n",
       "      <td>5 years</td>\n",
       "      <td>train</td>\n",
       "    </tr>\n",
       "    <tr>\n",
       "      <th>1</th>\n",
       "      <td>75473.0</td>\n",
       "      <td>19750</td>\n",
       "      <td>19750</td>\n",
       "      <td>17.27%</td>\n",
       "      <td>60 months</td>\n",
       "      <td>debt_consolidation</td>\n",
       "      <td>13.39%</td>\n",
       "      <td>NY</td>\n",
       "      <td>MORTGAGE</td>\n",
       "      <td>6737.50</td>\n",
       "      <td>710-714</td>\n",
       "      <td>14</td>\n",
       "      <td>19070</td>\n",
       "      <td>3.0</td>\n",
       "      <td>4 years</td>\n",
       "      <td>train</td>\n",
       "    </tr>\n",
       "    <tr>\n",
       "      <th>2</th>\n",
       "      <td>67265.0</td>\n",
       "      <td>2100</td>\n",
       "      <td>2100</td>\n",
       "      <td>14.33%</td>\n",
       "      <td>36 months</td>\n",
       "      <td>major_purchase</td>\n",
       "      <td>3.50%</td>\n",
       "      <td>LA</td>\n",
       "      <td>OWN</td>\n",
       "      <td>1000.00</td>\n",
       "      <td>690-694</td>\n",
       "      <td>13</td>\n",
       "      <td>893</td>\n",
       "      <td>1.0</td>\n",
       "      <td>&lt; 1 year</td>\n",
       "      <td>train</td>\n",
       "    </tr>\n",
       "    <tr>\n",
       "      <th>3</th>\n",
       "      <td>80167.0</td>\n",
       "      <td>28000</td>\n",
       "      <td>28000</td>\n",
       "      <td>16.29%</td>\n",
       "      <td>36 months</td>\n",
       "      <td>credit_card</td>\n",
       "      <td>19.62%</td>\n",
       "      <td>NV</td>\n",
       "      <td>MORTGAGE</td>\n",
       "      <td>7083.33</td>\n",
       "      <td>710-714</td>\n",
       "      <td>12</td>\n",
       "      <td>38194</td>\n",
       "      <td>1.0</td>\n",
       "      <td>10+ years</td>\n",
       "      <td>train</td>\n",
       "    </tr>\n",
       "    <tr>\n",
       "      <th>4</th>\n",
       "      <td>17240.0</td>\n",
       "      <td>24250</td>\n",
       "      <td>17431.82</td>\n",
       "      <td>12.23%</td>\n",
       "      <td>60 months</td>\n",
       "      <td>credit_card</td>\n",
       "      <td>23.79%</td>\n",
       "      <td>OH</td>\n",
       "      <td>MORTGAGE</td>\n",
       "      <td>5833.33</td>\n",
       "      <td>730-734</td>\n",
       "      <td>6</td>\n",
       "      <td>31061</td>\n",
       "      <td>2.0</td>\n",
       "      <td>10+ years</td>\n",
       "      <td>train</td>\n",
       "    </tr>\n",
       "  </tbody>\n",
       "</table>\n",
       "</div>"
      ],
      "text/plain": [
       "        ID Amount.Requested Amount.Funded.By.Investors Interest.Rate  \\\n",
       "0  79542.0            25000                      25000        18.49%   \n",
       "1  75473.0            19750                      19750        17.27%   \n",
       "2  67265.0             2100                       2100        14.33%   \n",
       "3  80167.0            28000                      28000        16.29%   \n",
       "4  17240.0            24250                   17431.82        12.23%   \n",
       "\n",
       "  Loan.Length        Loan.Purpose Debt.To.Income.Ratio State Home.Ownership  \\\n",
       "0   60 months  debt_consolidation               27.56%    VA       MORTGAGE   \n",
       "1   60 months  debt_consolidation               13.39%    NY       MORTGAGE   \n",
       "2   36 months      major_purchase                3.50%    LA            OWN   \n",
       "3   36 months         credit_card               19.62%    NV       MORTGAGE   \n",
       "4   60 months         credit_card               23.79%    OH       MORTGAGE   \n",
       "\n",
       "   Monthly.Income FICO.Range Open.CREDIT.Lines Revolving.CREDIT.Balance  \\\n",
       "0         8606.56    720-724                11                    15210   \n",
       "1         6737.50    710-714                14                    19070   \n",
       "2         1000.00    690-694                13                      893   \n",
       "3         7083.33    710-714                12                    38194   \n",
       "4         5833.33    730-734                 6                    31061   \n",
       "\n",
       "   Inquiries.in.the.Last.6.Months Employment.Length   data  \n",
       "0                             3.0           5 years  train  \n",
       "1                             3.0           4 years  train  \n",
       "2                             1.0          < 1 year  train  \n",
       "3                             1.0         10+ years  train  \n",
       "4                             2.0         10+ years  train  "
      ]
     },
     "execution_count": 51,
     "metadata": {},
     "output_type": "execute_result"
    }
   ],
   "source": [
    "ld_all.head()"
   ]
  },
  {
   "cell_type": "code",
   "execution_count": 52,
   "metadata": {},
   "outputs": [
    {
     "data": {
      "text/plain": [
       "ID                                float64\n",
       "Amount.Requested                   object\n",
       "Amount.Funded.By.Investors         object\n",
       "Interest.Rate                      object\n",
       "Loan.Length                        object\n",
       "Loan.Purpose                       object\n",
       "Debt.To.Income.Ratio               object\n",
       "State                              object\n",
       "Home.Ownership                     object\n",
       "Monthly.Income                    float64\n",
       "FICO.Range                         object\n",
       "Open.CREDIT.Lines                  object\n",
       "Revolving.CREDIT.Balance           object\n",
       "Inquiries.in.the.Last.6.Months    float64\n",
       "Employment.Length                  object\n",
       "data                               object\n",
       "dtype: object"
      ]
     },
     "execution_count": 52,
     "metadata": {},
     "output_type": "execute_result"
    }
   ],
   "source": [
    "ld_all.dtypes"
   ]
  },
  {
   "cell_type": "code",
   "execution_count": 53,
   "metadata": {},
   "outputs": [],
   "source": [
    "#Dropping ID,Amount.Funded.By.Investors since it won't help in predicting interest rate\n",
    "ld_all.drop([\"ID\",\"Amount.Funded.By.Investors\",],axis = 1,inplace = True)"
   ]
  },
  {
   "cell_type": "code",
   "execution_count": 54,
   "metadata": {},
   "outputs": [],
   "source": [
    "# Removing the % sign and convert to numeric\n",
    "ld_all[\"Interest.Rate\"] = ld_all[\"Interest.Rate\"].str.replace(\"%\",\"\")\n",
    "ld_all[\"Debt.To.Income.Ratio\"] = ld_all[\"Debt.To.Income.Ratio\"].str.replace(\"%\",\"\")"
   ]
  },
  {
   "cell_type": "code",
   "execution_count": 55,
   "metadata": {},
   "outputs": [],
   "source": [
    "for cols in [\"Debt.To.Income.Ratio\",\"Interest.Rate\",\"Open.CREDIT.Lines\",\"Revolving.CREDIT.Balance\",\"Amount.Requested\"]:\n",
    "    ld_all[cols] = pd.to_numeric(ld_all[cols],errors=\"coerce\")"
   ]
  },
  {
   "cell_type": "code",
   "execution_count": 56,
   "metadata": {},
   "outputs": [],
   "source": [
    "# Taking the average of the FICO range\n",
    "k = ld_all[\"FICO.Range\"].str.split(\"-\",expand = True).astype(float)"
   ]
  },
  {
   "cell_type": "code",
   "execution_count": 57,
   "metadata": {},
   "outputs": [],
   "source": [
    "ld_all[\"FICO\"] = 0.5*(k[0] +k[1])\n",
    "ld_all.drop(\"FICO.Range\",axis=1,inplace = True)"
   ]
  },
  {
   "cell_type": "code",
   "execution_count": 58,
   "metadata": {},
   "outputs": [
    {
     "data": {
      "text/plain": [
       "10+ years    653\n",
       "< 1 year     249\n",
       "2 years      243\n",
       "3 years      235\n",
       "5 years      202\n",
       "4 years      191\n",
       "1 year       177\n",
       "6 years      163\n",
       "7 years      127\n",
       "8 years      108\n",
       "9 years       72\n",
       ".              2\n",
       "Name: Employment.Length, dtype: int64"
      ]
     },
     "execution_count": 58,
     "metadata": {},
     "output_type": "execute_result"
    }
   ],
   "source": [
    "ld_all[\"Employment.Length\"].value_counts()"
   ]
  },
  {
   "cell_type": "code",
   "execution_count": 59,
   "metadata": {},
   "outputs": [],
   "source": [
    "# Converting the EmploymentLength column into numeric before clening the data\n",
    "ld_all[\"Employment.Length\"] = ld_all[\"Employment.Length\"].str.replace(\"years\",\"\")\n",
    "ld_all[\"Employment.Length\"] = ld_all[\"Employment.Length\"].str.replace(\"year\",\"\")\n",
    "ld_all[\"Employment.Length\"] = np.where(ld_all[\"Employment.Length\"].str[:2]==\"10\",10,ld_all[\"Employment.Length\"])\n",
    "ld_all[\"Employment.Length\"] = np.where(ld_all[\"Employment.Length\"].str[0]==\"<\",0,ld_all[\"Employment.Length\"])\n",
    "ld_all[\"Employment.Length\"] = pd.to_numeric(ld_all[\"Employment.Length\"],errors=\"coerce\")"
   ]
  },
  {
   "cell_type": "code",
   "execution_count": 62,
   "metadata": {},
   "outputs": [
    {
     "data": {
      "text/plain": [
       "Index(['Loan.Length', 'Loan.Purpose', 'State', 'Home.Ownership'], dtype='object')"
      ]
     },
     "execution_count": 62,
     "metadata": {},
     "output_type": "execute_result"
    }
   ],
   "source": [
    "#Removing the last column as we don't want to create dummy variables for data column\n",
    "cat_cols = ld_all.select_dtypes([\"object\"]).columns[:-1]\n",
    "cat_cols"
   ]
  },
  {
   "cell_type": "code",
   "execution_count": 63,
   "metadata": {},
   "outputs": [],
   "source": [
    "#Creating dummy values for categorical variables but with minimum freq over 20 obeservations\n",
    "for cols in cat_cols:\n",
    "    freq = ld_all[cols].value_counts()\n",
    "    k = freq.index[freq>20][:-1]\n",
    "    for cat in k:\n",
    "        name = cols + \"_\" + cat\n",
    "        ld_all[name] = (ld_all[cols]==cat).astype(int)\n",
    "    del ld_all[cols]\n",
    "    \n",
    "    \n",
    "    "
   ]
  },
  {
   "cell_type": "code",
   "execution_count": 64,
   "metadata": {},
   "outputs": [
    {
     "data": {
      "text/plain": [
       "(2500, 51)"
      ]
     },
     "execution_count": 64,
     "metadata": {},
     "output_type": "execute_result"
    }
   ],
   "source": [
    "ld_all.shape"
   ]
  },
  {
   "cell_type": "code",
   "execution_count": 65,
   "metadata": {},
   "outputs": [
    {
     "data": {
      "text/html": [
       "<div>\n",
       "<style scoped>\n",
       "    .dataframe tbody tr th:only-of-type {\n",
       "        vertical-align: middle;\n",
       "    }\n",
       "\n",
       "    .dataframe tbody tr th {\n",
       "        vertical-align: top;\n",
       "    }\n",
       "\n",
       "    .dataframe thead th {\n",
       "        text-align: right;\n",
       "    }\n",
       "</style>\n",
       "<table border=\"1\" class=\"dataframe\">\n",
       "  <thead>\n",
       "    <tr style=\"text-align: right;\">\n",
       "      <th></th>\n",
       "      <th>Amount.Requested</th>\n",
       "      <th>Interest.Rate</th>\n",
       "      <th>Debt.To.Income.Ratio</th>\n",
       "      <th>Monthly.Income</th>\n",
       "      <th>Open.CREDIT.Lines</th>\n",
       "      <th>Revolving.CREDIT.Balance</th>\n",
       "      <th>Inquiries.in.the.Last.6.Months</th>\n",
       "      <th>Employment.Length</th>\n",
       "      <th>data</th>\n",
       "      <th>FICO</th>\n",
       "      <th>...</th>\n",
       "      <th>State_MO</th>\n",
       "      <th>State_NV</th>\n",
       "      <th>State_OR</th>\n",
       "      <th>State_SC</th>\n",
       "      <th>State_WI</th>\n",
       "      <th>State_KY</th>\n",
       "      <th>State_LA</th>\n",
       "      <th>State_KS</th>\n",
       "      <th>Home.Ownership_MORTGAGE</th>\n",
       "      <th>Home.Ownership_RENT</th>\n",
       "    </tr>\n",
       "  </thead>\n",
       "  <tbody>\n",
       "    <tr>\n",
       "      <th>0</th>\n",
       "      <td>25000.0</td>\n",
       "      <td>18.49</td>\n",
       "      <td>27.56</td>\n",
       "      <td>8606.56</td>\n",
       "      <td>11.0</td>\n",
       "      <td>15210.0</td>\n",
       "      <td>3.0</td>\n",
       "      <td>5.0</td>\n",
       "      <td>train</td>\n",
       "      <td>722.0</td>\n",
       "      <td>...</td>\n",
       "      <td>0</td>\n",
       "      <td>0</td>\n",
       "      <td>0</td>\n",
       "      <td>0</td>\n",
       "      <td>0</td>\n",
       "      <td>0</td>\n",
       "      <td>0</td>\n",
       "      <td>0</td>\n",
       "      <td>1</td>\n",
       "      <td>0</td>\n",
       "    </tr>\n",
       "    <tr>\n",
       "      <th>1</th>\n",
       "      <td>19750.0</td>\n",
       "      <td>17.27</td>\n",
       "      <td>13.39</td>\n",
       "      <td>6737.50</td>\n",
       "      <td>14.0</td>\n",
       "      <td>19070.0</td>\n",
       "      <td>3.0</td>\n",
       "      <td>4.0</td>\n",
       "      <td>train</td>\n",
       "      <td>712.0</td>\n",
       "      <td>...</td>\n",
       "      <td>0</td>\n",
       "      <td>0</td>\n",
       "      <td>0</td>\n",
       "      <td>0</td>\n",
       "      <td>0</td>\n",
       "      <td>0</td>\n",
       "      <td>0</td>\n",
       "      <td>0</td>\n",
       "      <td>1</td>\n",
       "      <td>0</td>\n",
       "    </tr>\n",
       "    <tr>\n",
       "      <th>2</th>\n",
       "      <td>2100.0</td>\n",
       "      <td>14.33</td>\n",
       "      <td>3.50</td>\n",
       "      <td>1000.00</td>\n",
       "      <td>13.0</td>\n",
       "      <td>893.0</td>\n",
       "      <td>1.0</td>\n",
       "      <td>0.0</td>\n",
       "      <td>train</td>\n",
       "      <td>692.0</td>\n",
       "      <td>...</td>\n",
       "      <td>0</td>\n",
       "      <td>0</td>\n",
       "      <td>0</td>\n",
       "      <td>0</td>\n",
       "      <td>0</td>\n",
       "      <td>0</td>\n",
       "      <td>1</td>\n",
       "      <td>0</td>\n",
       "      <td>0</td>\n",
       "      <td>0</td>\n",
       "    </tr>\n",
       "    <tr>\n",
       "      <th>3</th>\n",
       "      <td>28000.0</td>\n",
       "      <td>16.29</td>\n",
       "      <td>19.62</td>\n",
       "      <td>7083.33</td>\n",
       "      <td>12.0</td>\n",
       "      <td>38194.0</td>\n",
       "      <td>1.0</td>\n",
       "      <td>10.0</td>\n",
       "      <td>train</td>\n",
       "      <td>712.0</td>\n",
       "      <td>...</td>\n",
       "      <td>0</td>\n",
       "      <td>1</td>\n",
       "      <td>0</td>\n",
       "      <td>0</td>\n",
       "      <td>0</td>\n",
       "      <td>0</td>\n",
       "      <td>0</td>\n",
       "      <td>0</td>\n",
       "      <td>1</td>\n",
       "      <td>0</td>\n",
       "    </tr>\n",
       "    <tr>\n",
       "      <th>4</th>\n",
       "      <td>24250.0</td>\n",
       "      <td>12.23</td>\n",
       "      <td>23.79</td>\n",
       "      <td>5833.33</td>\n",
       "      <td>6.0</td>\n",
       "      <td>31061.0</td>\n",
       "      <td>2.0</td>\n",
       "      <td>10.0</td>\n",
       "      <td>train</td>\n",
       "      <td>732.0</td>\n",
       "      <td>...</td>\n",
       "      <td>0</td>\n",
       "      <td>0</td>\n",
       "      <td>0</td>\n",
       "      <td>0</td>\n",
       "      <td>0</td>\n",
       "      <td>0</td>\n",
       "      <td>0</td>\n",
       "      <td>0</td>\n",
       "      <td>1</td>\n",
       "      <td>0</td>\n",
       "    </tr>\n",
       "  </tbody>\n",
       "</table>\n",
       "<p>5 rows × 51 columns</p>\n",
       "</div>"
      ],
      "text/plain": [
       "   Amount.Requested  Interest.Rate  Debt.To.Income.Ratio  Monthly.Income  \\\n",
       "0           25000.0          18.49                 27.56         8606.56   \n",
       "1           19750.0          17.27                 13.39         6737.50   \n",
       "2            2100.0          14.33                  3.50         1000.00   \n",
       "3           28000.0          16.29                 19.62         7083.33   \n",
       "4           24250.0          12.23                 23.79         5833.33   \n",
       "\n",
       "   Open.CREDIT.Lines  Revolving.CREDIT.Balance  \\\n",
       "0               11.0                   15210.0   \n",
       "1               14.0                   19070.0   \n",
       "2               13.0                     893.0   \n",
       "3               12.0                   38194.0   \n",
       "4                6.0                   31061.0   \n",
       "\n",
       "   Inquiries.in.the.Last.6.Months  Employment.Length   data   FICO  \\\n",
       "0                             3.0                5.0  train  722.0   \n",
       "1                             3.0                4.0  train  712.0   \n",
       "2                             1.0                0.0  train  692.0   \n",
       "3                             1.0               10.0  train  712.0   \n",
       "4                             2.0               10.0  train  732.0   \n",
       "\n",
       "          ...           State_MO  State_NV  State_OR  State_SC  State_WI  \\\n",
       "0         ...                  0         0         0         0         0   \n",
       "1         ...                  0         0         0         0         0   \n",
       "2         ...                  0         0         0         0         0   \n",
       "3         ...                  0         1         0         0         0   \n",
       "4         ...                  0         0         0         0         0   \n",
       "\n",
       "   State_KY  State_LA  State_KS  Home.Ownership_MORTGAGE  Home.Ownership_RENT  \n",
       "0         0         0         0                        1                    0  \n",
       "1         0         0         0                        1                    0  \n",
       "2         0         1         0                        0                    0  \n",
       "3         0         0         0                        1                    0  \n",
       "4         0         0         0                        1                    0  \n",
       "\n",
       "[5 rows x 51 columns]"
      ]
     },
     "execution_count": 65,
     "metadata": {},
     "output_type": "execute_result"
    }
   ],
   "source": [
    "ld_all.head()"
   ]
  },
  {
   "cell_type": "code",
   "execution_count": 66,
   "metadata": {},
   "outputs": [
    {
     "data": {
      "text/plain": [
       "Amount.Requested                     5\n",
       "Interest.Rate                      300\n",
       "Debt.To.Income.Ratio                 1\n",
       "Monthly.Income                       3\n",
       "Open.CREDIT.Lines                    9\n",
       "Revolving.CREDIT.Balance             5\n",
       "Inquiries.in.the.Last.6.Months       3\n",
       "Employment.Length                   80\n",
       "data                                 0\n",
       "FICO                                 0\n",
       "Loan.Length_36 months                0\n",
       "Loan.Purpose_debt_consolidation      0\n",
       "Loan.Purpose_credit_card             0\n",
       "Loan.Purpose_other                   0\n",
       "Loan.Purpose_home_improvement        0\n",
       "Loan.Purpose_major_purchase          0\n",
       "Loan.Purpose_small_business          0\n",
       "Loan.Purpose_car                     0\n",
       "Loan.Purpose_wedding                 0\n",
       "Loan.Purpose_medical                 0\n",
       "Loan.Purpose_moving                  0\n",
       "State_CA                             0\n",
       "State_NY                             0\n",
       "State_TX                             0\n",
       "State_FL                             0\n",
       "State_IL                             0\n",
       "State_GA                             0\n",
       "State_PA                             0\n",
       "State_NJ                             0\n",
       "State_VA                             0\n",
       "State_MA                             0\n",
       "State_OH                             0\n",
       "State_MD                             0\n",
       "State_NC                             0\n",
       "State_CO                             0\n",
       "State_WA                             0\n",
       "State_CT                             0\n",
       "State_AZ                             0\n",
       "State_MI                             0\n",
       "State_AL                             0\n",
       "State_MN                             0\n",
       "State_MO                             0\n",
       "State_NV                             0\n",
       "State_OR                             0\n",
       "State_SC                             0\n",
       "State_WI                             0\n",
       "State_KY                             0\n",
       "State_LA                             0\n",
       "State_KS                             0\n",
       "Home.Ownership_MORTGAGE              0\n",
       "Home.Ownership_RENT                  0\n",
       "dtype: int64"
      ]
     },
     "execution_count": 66,
     "metadata": {},
     "output_type": "execute_result"
    }
   ],
   "source": [
    "#Checking for null values in dataset\n",
    "ld_all.isnull().sum()"
   ]
  },
  {
   "cell_type": "code",
   "execution_count": 67,
   "metadata": {},
   "outputs": [],
   "source": [
    "#Replacing null vaues with mean besides INterest Rate and data columns\n",
    "for col in ld_all.columns:\n",
    "    if (col not in [\"Interest.Rate\",\"data\"]) & (ld_all[col].isnull().sum()>0):\n",
    "        ld_all.loc[ld_all[col].isnull(),col] = ld_all.loc[ld_all[\"data\"]==\"train\",col].mean()"
   ]
  },
  {
   "cell_type": "code",
   "execution_count": 68,
   "metadata": {},
   "outputs": [
    {
     "data": {
      "text/plain": [
       "Amount.Requested                   0\n",
       "Interest.Rate                      0\n",
       "Debt.To.Income.Ratio               0\n",
       "Monthly.Income                     0\n",
       "Open.CREDIT.Lines                  0\n",
       "Revolving.CREDIT.Balance           0\n",
       "Inquiries.in.the.Last.6.Months     0\n",
       "Employment.Length                  0\n",
       "data                               0\n",
       "FICO                               0\n",
       "Loan.Length_36 months              0\n",
       "Loan.Purpose_debt_consolidation    0\n",
       "Loan.Purpose_credit_card           0\n",
       "Loan.Purpose_other                 0\n",
       "Loan.Purpose_home_improvement      0\n",
       "Loan.Purpose_major_purchase        0\n",
       "Loan.Purpose_small_business        0\n",
       "Loan.Purpose_car                   0\n",
       "Loan.Purpose_wedding               0\n",
       "Loan.Purpose_medical               0\n",
       "Loan.Purpose_moving                0\n",
       "State_CA                           0\n",
       "State_NY                           0\n",
       "State_TX                           0\n",
       "State_FL                           0\n",
       "State_IL                           0\n",
       "State_GA                           0\n",
       "State_PA                           0\n",
       "State_NJ                           0\n",
       "State_VA                           0\n",
       "State_MA                           0\n",
       "State_OH                           0\n",
       "State_MD                           0\n",
       "State_NC                           0\n",
       "State_CO                           0\n",
       "State_WA                           0\n",
       "State_CT                           0\n",
       "State_AZ                           0\n",
       "State_MI                           0\n",
       "State_AL                           0\n",
       "State_MN                           0\n",
       "State_MO                           0\n",
       "State_NV                           0\n",
       "State_OR                           0\n",
       "State_SC                           0\n",
       "State_WI                           0\n",
       "State_KY                           0\n",
       "State_LA                           0\n",
       "State_KS                           0\n",
       "Home.Ownership_MORTGAGE            0\n",
       "Home.Ownership_RENT                0\n",
       "dtype: int64"
      ]
     },
     "execution_count": 68,
     "metadata": {},
     "output_type": "execute_result"
    }
   ],
   "source": [
    "ld_all.isnull().sum()"
   ]
  },
  {
   "cell_type": "code",
   "execution_count": 69,
   "metadata": {},
   "outputs": [
    {
     "name": "stderr",
     "output_type": "stream",
     "text": [
      "C:\\Users\\anike\\Anaconda3\\lib\\site-packages\\pandas\\core\\frame.py:3697: SettingWithCopyWarning: \n",
      "A value is trying to be set on a copy of a slice from a DataFrame\n",
      "\n",
      "See the caveats in the documentation: http://pandas.pydata.org/pandas-docs/stable/indexing.html#indexing-view-versus-copy\n",
      "  errors=errors)\n"
     ]
    }
   ],
   "source": [
    "#Splitting the datasets to train and test\n",
    "ld_train = ld_all[ld_all[\"data\"]==\"train\"]\n",
    "del ld_train[\"data\"]\n",
    "ld_test =  ld_all[ld_all[\"data\"]==\"test\"]\n",
    "ld_test.drop([\"Interest.Rate\",\"data\"],axis=1,inplace=True)"
   ]
  },
  {
   "cell_type": "code",
   "execution_count": 70,
   "metadata": {},
   "outputs": [],
   "source": [
    "del ld_all"
   ]
  },
  {
   "cell_type": "code",
   "execution_count": 71,
   "metadata": {},
   "outputs": [],
   "source": [
    "from sklearn.model_selection import train_test_split"
   ]
  },
  {
   "cell_type": "code",
   "execution_count": 72,
   "metadata": {},
   "outputs": [],
   "source": [
    "#Splitting the dataset into 80:20 Test-Train Dataset\n",
    "ld_train1, ld_train2 = train_test_split(ld_train,test_size = 0.2,random_state=2)"
   ]
  },
  {
   "cell_type": "code",
   "execution_count": 73,
   "metadata": {},
   "outputs": [],
   "source": [
    "x_train1 = ld_train1.drop([\"Interest.Rate\"],axis=1)\n",
    "y_train1 = ld_train1[\"Interest.Rate\"]"
   ]
  },
  {
   "cell_type": "code",
   "execution_count": 74,
   "metadata": {},
   "outputs": [],
   "source": [
    "from sklearn.linear_model import LinearRegression"
   ]
  },
  {
   "cell_type": "code",
   "execution_count": 75,
   "metadata": {},
   "outputs": [],
   "source": [
    "#Applying linnear Regression\n",
    "lm = LinearRegression()"
   ]
  },
  {
   "cell_type": "code",
   "execution_count": 76,
   "metadata": {},
   "outputs": [
    {
     "data": {
      "text/plain": [
       "LinearRegression(copy_X=True, fit_intercept=True, n_jobs=1, normalize=False)"
      ]
     },
     "execution_count": 76,
     "metadata": {},
     "output_type": "execute_result"
    }
   ],
   "source": [
    "lm.fit(x_train1,y_train1)"
   ]
  },
  {
   "cell_type": "code",
   "execution_count": 77,
   "metadata": {},
   "outputs": [
    {
     "data": {
      "text/plain": [
       "75.9212141359478"
      ]
     },
     "execution_count": 77,
     "metadata": {},
     "output_type": "execute_result"
    }
   ],
   "source": [
    "lm.intercept_"
   ]
  },
  {
   "cell_type": "code",
   "execution_count": 78,
   "metadata": {},
   "outputs": [
    {
     "data": {
      "text/plain": [
       "[('Amount.Requested', 0.00015602405153877186),\n",
       " ('Debt.To.Income.Ratio', -0.003938504173777158),\n",
       " ('Monthly.Income', -2.6568573569170736e-05),\n",
       " ('Open.CREDIT.Lines', -0.039922608340240945),\n",
       " ('Revolving.CREDIT.Balance', -3.923647858838919e-06),\n",
       " ('Inquiries.in.the.Last.6.Months', 0.3361172111313311),\n",
       " ('Employment.Length', 0.0349936718945103),\n",
       " ('FICO', -0.08667701121950822),\n",
       " ('Loan.Length_36 months', -3.143747246950592),\n",
       " ('Loan.Purpose_debt_consolidation', -0.46739356903559237),\n",
       " ('Loan.Purpose_credit_card', -0.6069873604061792),\n",
       " ('Loan.Purpose_other', 0.44417142270192733),\n",
       " ('Loan.Purpose_home_improvement', -0.3611899849181419),\n",
       " ('Loan.Purpose_major_purchase', -0.09589524932665638),\n",
       " ('Loan.Purpose_small_business', 0.06800548772823811),\n",
       " ('Loan.Purpose_car', 0.025259628036013893),\n",
       " ('Loan.Purpose_wedding', -0.779154265005644),\n",
       " ('Loan.Purpose_medical', -0.4281152109954953),\n",
       " ('Loan.Purpose_moving', 1.2845276544595716),\n",
       " ('State_CA', -0.21159715256759293),\n",
       " ('State_NY', -0.12777976346385944),\n",
       " ('State_TX', 0.4656519996969049),\n",
       " ('State_FL', 0.08536509194007688),\n",
       " ('State_IL', -0.6478521077890976),\n",
       " ('State_GA', -0.028715232683424435),\n",
       " ('State_PA', -0.5531491923550254),\n",
       " ('State_NJ', -0.4252715824292991),\n",
       " ('State_VA', -0.1900182794302424),\n",
       " ('State_MA', 0.09032034036316791),\n",
       " ('State_OH', -0.36139403402199943),\n",
       " ('State_MD', -0.0166147969097057),\n",
       " ('State_NC', -0.3012520492515626),\n",
       " ('State_CO', -0.05643938739112131),\n",
       " ('State_WA', -0.24431943682020324),\n",
       " ('State_CT', 0.4450659067910986),\n",
       " ('State_AZ', 0.2647218526843679),\n",
       " ('State_MI', -0.1581658355736979),\n",
       " ('State_AL', -0.32176623527151654),\n",
       " ('State_MN', -0.07658290397396375),\n",
       " ('State_MO', -0.4320941840325308),\n",
       " ('State_NV', -0.12433340941261034),\n",
       " ('State_OR', 0.1202482945947619),\n",
       " ('State_SC', 0.02477134526043881),\n",
       " ('State_WI', -0.16506920267021277),\n",
       " ('State_KY', 0.2692286032568502),\n",
       " ('State_LA', -0.0487968799518559),\n",
       " ('State_KS', 0.2442429179644846),\n",
       " ('Home.Ownership_MORTGAGE', -0.4927899396352776),\n",
       " ('Home.Ownership_RENT', -0.22835804629261117)]"
      ]
     },
     "execution_count": 78,
     "metadata": {},
     "output_type": "execute_result"
    }
   ],
   "source": [
    "list(zip(x_train1.columns,lm.coef_))"
   ]
  },
  {
   "cell_type": "code",
   "execution_count": 79,
   "metadata": {},
   "outputs": [],
   "source": [
    "x_train2 = ld_train2.drop([\"Interest.Rate\"],axis=1)\n"
   ]
  },
  {
   "cell_type": "code",
   "execution_count": 80,
   "metadata": {},
   "outputs": [],
   "source": [
    "predicted = lm.predict(x_train2)"
   ]
  },
  {
   "cell_type": "code",
   "execution_count": 81,
   "metadata": {},
   "outputs": [],
   "source": [
    "from sklearn.metrics import mean_absolute_error"
   ]
  },
  {
   "cell_type": "code",
   "execution_count": 82,
   "metadata": {},
   "outputs": [
    {
     "data": {
      "text/plain": [
       "1.6278267948887137"
      ]
     },
     "execution_count": 82,
     "metadata": {},
     "output_type": "execute_result"
    }
   ],
   "source": [
    "mean_absolute_error(predicted,ld_train2[\"Interest.Rate\"])"
   ]
  },
  {
   "cell_type": "code",
   "execution_count": 84,
   "metadata": {},
   "outputs": [],
   "source": [
    "predicted = lm.predict(ld_test)"
   ]
  },
  {
   "cell_type": "code",
   "execution_count": 99,
   "metadata": {},
   "outputs": [
    {
     "data": {
      "text/plain": [
       "LinearRegression(copy_X=True, fit_intercept=True, n_jobs=1, normalize=False)"
      ]
     },
     "execution_count": 99,
     "metadata": {},
     "output_type": "execute_result"
    }
   ],
   "source": [
    "lm.fit(x_train,y_train)"
   ]
  },
  {
   "cell_type": "code",
   "execution_count": 86,
   "metadata": {},
   "outputs": [],
   "source": [
    "test_pred = lm.predict(ld_test)"
   ]
  },
  {
   "cell_type": "code",
   "execution_count": 87,
   "metadata": {},
   "outputs": [],
   "source": [
    "pd.DataFrame(test_pred).to_csv(\"Prediction.csv\",index = False)"
   ]
  }
 ],
 "metadata": {
  "kernelspec": {
   "display_name": "Python 3",
   "language": "python",
   "name": "python3"
  },
  "language_info": {
   "codemirror_mode": {
    "name": "ipython",
    "version": 3
   },
   "file_extension": ".py",
   "mimetype": "text/x-python",
   "name": "python",
   "nbconvert_exporter": "python",
   "pygments_lexer": "ipython3",
   "version": "3.7.0"
  }
 },
 "nbformat": 4,
 "nbformat_minor": 2
}
