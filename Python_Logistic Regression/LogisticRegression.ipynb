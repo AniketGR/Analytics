{
 "cells": [
  {
   "cell_type": "code",
   "execution_count": 1,
   "metadata": {},
   "outputs": [],
   "source": [
    "#importing libraries\n",
    "import numpy as np \n",
    "import pandas as pd"
   ]
  },
  {
   "cell_type": "code",
   "execution_count": 11,
   "metadata": {},
   "outputs": [],
   "source": [
    "#imporing datasets\n",
    "bd_train = pd.read_csv(\"C:/Users/anike/Desktop/DataScience Projects/rg_train.csv\")\n",
    "bd_test = pd.read_csv(\"C:/Users/anike/Desktop/DataScience Projects/rg_test.csv\")"
   ]
  },
  {
   "cell_type": "code",
   "execution_count": 12,
   "metadata": {},
   "outputs": [],
   "source": [
    "#Merginf both the datasets in oreder to apply data processing together\n",
    "bd_test[\"Revenue.Grid\"] = np.nan\n",
    "bd_train[\"data\"] = \"train\"\n",
    "bd_test[\"data\"] = \"test\"\n",
    "bd_test = bd_test[bd_train.columns]\n",
    "bd_all = pd.concat([bd_train,bd_test],axis=0)"
   ]
  },
  {
   "cell_type": "code",
   "execution_count": 13,
   "metadata": {},
   "outputs": [
    {
     "data": {
      "text/html": [
       "<div>\n",
       "<style scoped>\n",
       "    .dataframe tbody tr th:only-of-type {\n",
       "        vertical-align: middle;\n",
       "    }\n",
       "\n",
       "    .dataframe tbody tr th {\n",
       "        vertical-align: top;\n",
       "    }\n",
       "\n",
       "    .dataframe thead th {\n",
       "        text-align: right;\n",
       "    }\n",
       "</style>\n",
       "<table border=\"1\" class=\"dataframe\">\n",
       "  <thead>\n",
       "    <tr style=\"text-align: right;\">\n",
       "      <th></th>\n",
       "      <th>REF_NO</th>\n",
       "      <th>children</th>\n",
       "      <th>age_band</th>\n",
       "      <th>status</th>\n",
       "      <th>occupation</th>\n",
       "      <th>occupation_partner</th>\n",
       "      <th>home_status</th>\n",
       "      <th>family_income</th>\n",
       "      <th>self_employed</th>\n",
       "      <th>self_employed_partner</th>\n",
       "      <th>...</th>\n",
       "      <th>Home.Loan</th>\n",
       "      <th>Online.Purchase.Amount</th>\n",
       "      <th>Revenue.Grid</th>\n",
       "      <th>gender</th>\n",
       "      <th>region</th>\n",
       "      <th>Investment.in.Commudity</th>\n",
       "      <th>Investment.in.Equity</th>\n",
       "      <th>Investment.in.Derivative</th>\n",
       "      <th>Portfolio.Balance</th>\n",
       "      <th>data</th>\n",
       "    </tr>\n",
       "  </thead>\n",
       "  <tbody>\n",
       "    <tr>\n",
       "      <th>0</th>\n",
       "      <td>2148</td>\n",
       "      <td>1</td>\n",
       "      <td>45-50</td>\n",
       "      <td>Partner</td>\n",
       "      <td>Professional</td>\n",
       "      <td>Professional</td>\n",
       "      <td>Rent Privately</td>\n",
       "      <td>&gt;=35,000</td>\n",
       "      <td>Yes</td>\n",
       "      <td>Yes</td>\n",
       "      <td>...</td>\n",
       "      <td>2.48</td>\n",
       "      <td>0.0</td>\n",
       "      <td>2.0</td>\n",
       "      <td>Female</td>\n",
       "      <td>South West</td>\n",
       "      <td>65.87</td>\n",
       "      <td>9.27</td>\n",
       "      <td>30.93</td>\n",
       "      <td>87.48</td>\n",
       "      <td>train</td>\n",
       "    </tr>\n",
       "    <tr>\n",
       "      <th>1</th>\n",
       "      <td>8099</td>\n",
       "      <td>1</td>\n",
       "      <td>61-65</td>\n",
       "      <td>Partner</td>\n",
       "      <td>Retired</td>\n",
       "      <td>Retired</td>\n",
       "      <td>Own Home</td>\n",
       "      <td>&lt;12,500, &gt;=10,000</td>\n",
       "      <td>No</td>\n",
       "      <td>No</td>\n",
       "      <td>...</td>\n",
       "      <td>3.99</td>\n",
       "      <td>0.0</td>\n",
       "      <td>2.0</td>\n",
       "      <td>Female</td>\n",
       "      <td>Unknown</td>\n",
       "      <td>42.46</td>\n",
       "      <td>4.49</td>\n",
       "      <td>26.23</td>\n",
       "      <td>110.73</td>\n",
       "      <td>train</td>\n",
       "    </tr>\n",
       "    <tr>\n",
       "      <th>2</th>\n",
       "      <td>6611</td>\n",
       "      <td>3</td>\n",
       "      <td>31-35</td>\n",
       "      <td>Partner</td>\n",
       "      <td>Professional</td>\n",
       "      <td>Professional</td>\n",
       "      <td>Own Home</td>\n",
       "      <td>&gt;=35,000</td>\n",
       "      <td>No</td>\n",
       "      <td>No</td>\n",
       "      <td>...</td>\n",
       "      <td>0.00</td>\n",
       "      <td>0.0</td>\n",
       "      <td>2.0</td>\n",
       "      <td>Male</td>\n",
       "      <td>East Anglia</td>\n",
       "      <td>75.38</td>\n",
       "      <td>0.00</td>\n",
       "      <td>26.66</td>\n",
       "      <td>127.57</td>\n",
       "      <td>train</td>\n",
       "    </tr>\n",
       "    <tr>\n",
       "      <th>3</th>\n",
       "      <td>1950</td>\n",
       "      <td>Zero</td>\n",
       "      <td>55-60</td>\n",
       "      <td>Partner</td>\n",
       "      <td>Professional</td>\n",
       "      <td>Professional</td>\n",
       "      <td>Own Home</td>\n",
       "      <td>&gt;=35,000</td>\n",
       "      <td>No</td>\n",
       "      <td>No</td>\n",
       "      <td>...</td>\n",
       "      <td>0.00</td>\n",
       "      <td>0.0</td>\n",
       "      <td>2.0</td>\n",
       "      <td>Female</td>\n",
       "      <td>North West</td>\n",
       "      <td>34.78</td>\n",
       "      <td>6.91</td>\n",
       "      <td>29.24</td>\n",
       "      <td>33.79</td>\n",
       "      <td>train</td>\n",
       "    </tr>\n",
       "    <tr>\n",
       "      <th>4</th>\n",
       "      <td>10857</td>\n",
       "      <td>2</td>\n",
       "      <td>51-55</td>\n",
       "      <td>Partner</td>\n",
       "      <td>Manual Worker</td>\n",
       "      <td>Manual Worker</td>\n",
       "      <td>Own Home</td>\n",
       "      <td>&lt;27,500, &gt;=25,000</td>\n",
       "      <td>Yes</td>\n",
       "      <td>Yes</td>\n",
       "      <td>...</td>\n",
       "      <td>0.00</td>\n",
       "      <td>0.0</td>\n",
       "      <td>2.0</td>\n",
       "      <td>Female</td>\n",
       "      <td>South West</td>\n",
       "      <td>48.58</td>\n",
       "      <td>9.58</td>\n",
       "      <td>20.65</td>\n",
       "      <td>56.17</td>\n",
       "      <td>train</td>\n",
       "    </tr>\n",
       "  </tbody>\n",
       "</table>\n",
       "<p>5 rows × 33 columns</p>\n",
       "</div>"
      ],
      "text/plain": [
       "   REF_NO children age_band   status     occupation occupation_partner  \\\n",
       "0    2148        1    45-50  Partner   Professional       Professional   \n",
       "1    8099        1    61-65  Partner        Retired            Retired   \n",
       "2    6611        3    31-35  Partner   Professional       Professional   \n",
       "3    1950     Zero    55-60  Partner   Professional       Professional   \n",
       "4   10857        2    51-55  Partner  Manual Worker      Manual Worker   \n",
       "\n",
       "      home_status      family_income self_employed self_employed_partner  \\\n",
       "0  Rent Privately           >=35,000           Yes                   Yes   \n",
       "1        Own Home  <12,500, >=10,000            No                    No   \n",
       "2        Own Home           >=35,000            No                    No   \n",
       "3        Own Home           >=35,000            No                    No   \n",
       "4        Own Home  <27,500, >=25,000           Yes                   Yes   \n",
       "\n",
       "   ...    Home.Loan Online.Purchase.Amount Revenue.Grid  gender       region  \\\n",
       "0  ...         2.48                    0.0          2.0  Female   South West   \n",
       "1  ...         3.99                    0.0          2.0  Female      Unknown   \n",
       "2  ...         0.00                    0.0          2.0    Male  East Anglia   \n",
       "3  ...         0.00                    0.0          2.0  Female   North West   \n",
       "4  ...         0.00                    0.0          2.0  Female   South West   \n",
       "\n",
       "   Investment.in.Commudity  Investment.in.Equity  Investment.in.Derivative  \\\n",
       "0                    65.87                  9.27                     30.93   \n",
       "1                    42.46                  4.49                     26.23   \n",
       "2                    75.38                  0.00                     26.66   \n",
       "3                    34.78                  6.91                     29.24   \n",
       "4                    48.58                  9.58                     20.65   \n",
       "\n",
       "   Portfolio.Balance   data  \n",
       "0              87.48  train  \n",
       "1             110.73  train  \n",
       "2             127.57  train  \n",
       "3              33.79  train  \n",
       "4              56.17  train  \n",
       "\n",
       "[5 rows x 33 columns]"
      ]
     },
     "execution_count": 13,
     "metadata": {},
     "output_type": "execute_result"
    }
   ],
   "source": [
    "bd_all.head()"
   ]
  },
  {
   "cell_type": "code",
   "execution_count": 14,
   "metadata": {},
   "outputs": [
    {
     "data": {
      "text/plain": [
       "[('REF_NO', dtype('int64'), 10155),\n",
       " ('children', dtype('O'), 5),\n",
       " ('age_band', dtype('O'), 13),\n",
       " ('status', dtype('O'), 5),\n",
       " ('occupation', dtype('O'), 9),\n",
       " ('occupation_partner', dtype('O'), 9),\n",
       " ('home_status', dtype('O'), 5),\n",
       " ('family_income', dtype('O'), 13),\n",
       " ('self_employed', dtype('O'), 2),\n",
       " ('self_employed_partner', dtype('O'), 2),\n",
       " ('year_last_moved', dtype('int64'), 95),\n",
       " ('TVarea', dtype('O'), 14),\n",
       " ('post_code', dtype('O'), 10040),\n",
       " ('post_area', dtype('O'), 2039),\n",
       " ('Average.Credit.Card.Transaction', dtype('float64'), 1411),\n",
       " ('Balance.Transfer', dtype('float64'), 2183),\n",
       " ('Term.Deposit', dtype('float64'), 1419),\n",
       " ('Life.Insurance', dtype('float64'), 3111),\n",
       " ('Medical.Insurance', dtype('float64'), 1589),\n",
       " ('Average.A.C.Balance', dtype('float64'), 2223),\n",
       " ('Personal.Loan', dtype('float64'), 1760),\n",
       " ('Investment.in.Mutual.Fund', dtype('float64'), 2470),\n",
       " ('Investment.Tax.Saving.Bond', dtype('float64'), 832),\n",
       " ('Home.Loan', dtype('float64'), 884),\n",
       " ('Online.Purchase.Amount', dtype('float64'), 1319),\n",
       " ('Revenue.Grid', dtype('float64'), 2),\n",
       " ('gender', dtype('O'), 3),\n",
       " ('region', dtype('O'), 13),\n",
       " ('Investment.in.Commudity', dtype('float64'), 3558),\n",
       " ('Investment.in.Equity', dtype('float64'), 3250),\n",
       " ('Investment.in.Derivative', dtype('float64'), 3796),\n",
       " ('Portfolio.Balance', dtype('float64'), 8317),\n",
       " ('data', dtype('O'), 2)]"
      ]
     },
     "execution_count": 14,
     "metadata": {},
     "output_type": "execute_result"
    }
   ],
   "source": [
    "list(zip(bd_all.columns,bd_all.dtypes,bd_all.nunique()))"
   ]
  },
  {
   "cell_type": "code",
   "execution_count": 15,
   "metadata": {},
   "outputs": [],
   "source": [
    "bd_all.drop([\"REF_NO\",\"post_code\",\"post_area\"],axis=1,inplace=True)"
   ]
  },
  {
   "cell_type": "code",
   "execution_count": 16,
   "metadata": {},
   "outputs": [
    {
     "data": {
      "text/plain": [
       "Zero    6208\n",
       "1       1848\n",
       "2       1607\n",
       "3        473\n",
       "4+        19\n",
       "Name: children, dtype: int64"
      ]
     },
     "execution_count": 16,
     "metadata": {},
     "output_type": "execute_result"
    }
   ],
   "source": [
    "bd_all[\"children\"].value_counts()"
   ]
  },
  {
   "cell_type": "code",
   "execution_count": 17,
   "metadata": {},
   "outputs": [],
   "source": [
    "#Converting children column into numeric before cleaning the data\n",
    "bd_all[\"children\"]=np.where(bd_all[\"children\"]==\"Zero\",0,bd_all[\"children\"])\n",
    "bd_all[\"children\"]=np.where(bd_all[\"children\"][:1]==\"4\",4,bd_all[\"children\"])\n",
    "bd_all[\"children\"]=pd.to_numeric(bd_all[\"children\"],errors=\"coerce\")\n"
   ]
  },
  {
   "cell_type": "code",
   "execution_count": 19,
   "metadata": {},
   "outputs": [],
   "source": [
    "bd_all[\"Revenue.Grid\"]=(bd_all[\"Revenue.Grid\"]==1).astype(int)"
   ]
  },
  {
   "cell_type": "code",
   "execution_count": 20,
   "metadata": {},
   "outputs": [
    {
     "data": {
      "text/plain": [
       "Index(['age_band', 'status', 'occupation', 'occupation_partner', 'home_status',\n",
       "       'family_income', 'self_employed', 'self_employed_partner', 'TVarea',\n",
       "       'gender', 'region', 'data'],\n",
       "      dtype='object')"
      ]
     },
     "execution_count": 20,
     "metadata": {},
     "output_type": "execute_result"
    }
   ],
   "source": [
    "cat_cols = bd_all.select_dtypes([\"object\"]).columns\n",
    "cat_cols"
   ]
  },
  {
   "cell_type": "code",
   "execution_count": 21,
   "metadata": {},
   "outputs": [
    {
     "name": "stdout",
     "output_type": "stream",
     "text": [
      "age_band\n",
      "status\n",
      "occupation\n",
      "occupation_partner\n",
      "home_status\n",
      "family_income\n",
      "self_employed\n",
      "self_employed_partner\n",
      "TVarea\n",
      "gender\n",
      "region\n"
     ]
    }
   ],
   "source": [
    "for col in cat_cols[:-1]:\n",
    "    dummy = pd.get_dummies(bd_all[col],drop_first = True, prefix = col)\n",
    "    bd_all = pd.concat([bd_all,dummy],axis=1)\n",
    "    del bd_all[col]\n",
    "    print(col)\n",
    "del dummy"
   ]
  },
  {
   "cell_type": "code",
   "execution_count": 22,
   "metadata": {},
   "outputs": [
    {
     "data": {
      "text/plain": [
       "(10155, 96)"
      ]
     },
     "execution_count": 22,
     "metadata": {},
     "output_type": "execute_result"
    }
   ],
   "source": [
    "bd_all.shape"
   ]
  },
  {
   "cell_type": "code",
   "execution_count": 23,
   "metadata": {},
   "outputs": [
    {
     "data": {
      "text/html": [
       "<div>\n",
       "<style scoped>\n",
       "    .dataframe tbody tr th:only-of-type {\n",
       "        vertical-align: middle;\n",
       "    }\n",
       "\n",
       "    .dataframe tbody tr th {\n",
       "        vertical-align: top;\n",
       "    }\n",
       "\n",
       "    .dataframe thead th {\n",
       "        text-align: right;\n",
       "    }\n",
       "</style>\n",
       "<table border=\"1\" class=\"dataframe\">\n",
       "  <thead>\n",
       "    <tr style=\"text-align: right;\">\n",
       "      <th></th>\n",
       "      <th>children</th>\n",
       "      <th>year_last_moved</th>\n",
       "      <th>Average.Credit.Card.Transaction</th>\n",
       "      <th>Balance.Transfer</th>\n",
       "      <th>Term.Deposit</th>\n",
       "      <th>Life.Insurance</th>\n",
       "      <th>Medical.Insurance</th>\n",
       "      <th>Average.A.C.Balance</th>\n",
       "      <th>Personal.Loan</th>\n",
       "      <th>Investment.in.Mutual.Fund</th>\n",
       "      <th>...</th>\n",
       "      <th>region_Isle of Man</th>\n",
       "      <th>region_North</th>\n",
       "      <th>region_North West</th>\n",
       "      <th>region_Northern Ireland</th>\n",
       "      <th>region_Scotland</th>\n",
       "      <th>region_South East</th>\n",
       "      <th>region_South West</th>\n",
       "      <th>region_Unknown</th>\n",
       "      <th>region_Wales</th>\n",
       "      <th>region_West Midlands</th>\n",
       "    </tr>\n",
       "  </thead>\n",
       "  <tbody>\n",
       "    <tr>\n",
       "      <th>0</th>\n",
       "      <td>1.0</td>\n",
       "      <td>1999</td>\n",
       "      <td>0.00</td>\n",
       "      <td>0.00</td>\n",
       "      <td>196.95</td>\n",
       "      <td>132.42</td>\n",
       "      <td>0.00</td>\n",
       "      <td>0.00</td>\n",
       "      <td>21.47</td>\n",
       "      <td>24.18</td>\n",
       "      <td>...</td>\n",
       "      <td>0</td>\n",
       "      <td>0</td>\n",
       "      <td>0</td>\n",
       "      <td>0</td>\n",
       "      <td>0</td>\n",
       "      <td>0</td>\n",
       "      <td>1</td>\n",
       "      <td>0</td>\n",
       "      <td>0</td>\n",
       "      <td>0</td>\n",
       "    </tr>\n",
       "    <tr>\n",
       "      <th>1</th>\n",
       "      <td>1.0</td>\n",
       "      <td>1959</td>\n",
       "      <td>0.00</td>\n",
       "      <td>77.89</td>\n",
       "      <td>0.00</td>\n",
       "      <td>134.39</td>\n",
       "      <td>0.00</td>\n",
       "      <td>7.99</td>\n",
       "      <td>14.98</td>\n",
       "      <td>0.00</td>\n",
       "      <td>...</td>\n",
       "      <td>0</td>\n",
       "      <td>0</td>\n",
       "      <td>0</td>\n",
       "      <td>0</td>\n",
       "      <td>0</td>\n",
       "      <td>0</td>\n",
       "      <td>0</td>\n",
       "      <td>1</td>\n",
       "      <td>0</td>\n",
       "      <td>0</td>\n",
       "    </tr>\n",
       "    <tr>\n",
       "      <th>2</th>\n",
       "      <td>3.0</td>\n",
       "      <td>1992</td>\n",
       "      <td>119.98</td>\n",
       "      <td>0.00</td>\n",
       "      <td>96.94</td>\n",
       "      <td>0.00</td>\n",
       "      <td>159.97</td>\n",
       "      <td>0.00</td>\n",
       "      <td>0.00</td>\n",
       "      <td>0.00</td>\n",
       "      <td>...</td>\n",
       "      <td>0</td>\n",
       "      <td>0</td>\n",
       "      <td>0</td>\n",
       "      <td>0</td>\n",
       "      <td>0</td>\n",
       "      <td>0</td>\n",
       "      <td>0</td>\n",
       "      <td>0</td>\n",
       "      <td>0</td>\n",
       "      <td>0</td>\n",
       "    </tr>\n",
       "    <tr>\n",
       "      <th>3</th>\n",
       "      <td>0.0</td>\n",
       "      <td>1990</td>\n",
       "      <td>0.00</td>\n",
       "      <td>39.99</td>\n",
       "      <td>0.00</td>\n",
       "      <td>133.93</td>\n",
       "      <td>0.00</td>\n",
       "      <td>39.48</td>\n",
       "      <td>0.00</td>\n",
       "      <td>0.00</td>\n",
       "      <td>...</td>\n",
       "      <td>0</td>\n",
       "      <td>0</td>\n",
       "      <td>1</td>\n",
       "      <td>0</td>\n",
       "      <td>0</td>\n",
       "      <td>0</td>\n",
       "      <td>0</td>\n",
       "      <td>0</td>\n",
       "      <td>0</td>\n",
       "      <td>0</td>\n",
       "    </tr>\n",
       "    <tr>\n",
       "      <th>4</th>\n",
       "      <td>2.0</td>\n",
       "      <td>1994</td>\n",
       "      <td>0.00</td>\n",
       "      <td>161.47</td>\n",
       "      <td>14.99</td>\n",
       "      <td>58.97</td>\n",
       "      <td>7.49</td>\n",
       "      <td>57.46</td>\n",
       "      <td>0.00</td>\n",
       "      <td>0.00</td>\n",
       "      <td>...</td>\n",
       "      <td>0</td>\n",
       "      <td>0</td>\n",
       "      <td>0</td>\n",
       "      <td>0</td>\n",
       "      <td>0</td>\n",
       "      <td>0</td>\n",
       "      <td>1</td>\n",
       "      <td>0</td>\n",
       "      <td>0</td>\n",
       "      <td>0</td>\n",
       "    </tr>\n",
       "  </tbody>\n",
       "</table>\n",
       "<p>5 rows × 96 columns</p>\n",
       "</div>"
      ],
      "text/plain": [
       "   children  year_last_moved  Average.Credit.Card.Transaction  \\\n",
       "0       1.0             1999                             0.00   \n",
       "1       1.0             1959                             0.00   \n",
       "2       3.0             1992                           119.98   \n",
       "3       0.0             1990                             0.00   \n",
       "4       2.0             1994                             0.00   \n",
       "\n",
       "   Balance.Transfer  Term.Deposit  Life.Insurance  Medical.Insurance  \\\n",
       "0              0.00        196.95          132.42               0.00   \n",
       "1             77.89          0.00          134.39               0.00   \n",
       "2              0.00         96.94            0.00             159.97   \n",
       "3             39.99          0.00          133.93               0.00   \n",
       "4            161.47         14.99           58.97               7.49   \n",
       "\n",
       "   Average.A.C.Balance  Personal.Loan  Investment.in.Mutual.Fund  \\\n",
       "0                 0.00          21.47                      24.18   \n",
       "1                 7.99          14.98                       0.00   \n",
       "2                 0.00           0.00                       0.00   \n",
       "3                39.48           0.00                       0.00   \n",
       "4                57.46           0.00                       0.00   \n",
       "\n",
       "           ...           region_Isle of Man  region_North  region_North West  \\\n",
       "0          ...                            0             0                  0   \n",
       "1          ...                            0             0                  0   \n",
       "2          ...                            0             0                  0   \n",
       "3          ...                            0             0                  1   \n",
       "4          ...                            0             0                  0   \n",
       "\n",
       "   region_Northern Ireland  region_Scotland  region_South East  \\\n",
       "0                        0                0                  0   \n",
       "1                        0                0                  0   \n",
       "2                        0                0                  0   \n",
       "3                        0                0                  0   \n",
       "4                        0                0                  0   \n",
       "\n",
       "   region_South West  region_Unknown region_Wales  region_West Midlands  \n",
       "0                  1               0            0                     0  \n",
       "1                  0               1            0                     0  \n",
       "2                  0               0            0                     0  \n",
       "3                  0               0            0                     0  \n",
       "4                  1               0            0                     0  \n",
       "\n",
       "[5 rows x 96 columns]"
      ]
     },
     "execution_count": 23,
     "metadata": {},
     "output_type": "execute_result"
    }
   ],
   "source": [
    "bd_all.head()"
   ]
  },
  {
   "cell_type": "code",
   "execution_count": 24,
   "metadata": {},
   "outputs": [
    {
     "data": {
      "text/plain": [
       "children                           19\n",
       "year_last_moved                     0\n",
       "Average.Credit.Card.Transaction     0\n",
       "Balance.Transfer                    0\n",
       "Term.Deposit                        0\n",
       "Life.Insurance                      0\n",
       "Medical.Insurance                   0\n",
       "Average.A.C.Balance                 0\n",
       "Personal.Loan                       0\n",
       "Investment.in.Mutual.Fund           0\n",
       "Investment.Tax.Saving.Bond          0\n",
       "Home.Loan                           0\n",
       "Online.Purchase.Amount              0\n",
       "Revenue.Grid                        0\n",
       "Investment.in.Commudity             0\n",
       "Investment.in.Equity                0\n",
       "Investment.in.Derivative            0\n",
       "Portfolio.Balance                   0\n",
       "data                                0\n",
       "age_band_22-25                      0\n",
       "age_band_26-30                      0\n",
       "age_band_31-35                      0\n",
       "age_band_36-40                      0\n",
       "age_band_41-45                      0\n",
       "age_band_45-50                      0\n",
       "age_band_51-55                      0\n",
       "age_band_55-60                      0\n",
       "age_band_61-65                      0\n",
       "age_band_65-70                      0\n",
       "age_band_71+                        0\n",
       "                                   ..\n",
       "family_income_Unknown               0\n",
       "self_employed_Yes                   0\n",
       "self_employed_partner_Yes           0\n",
       "TVarea_Border                       0\n",
       "TVarea_Carlton                      0\n",
       "TVarea_Central                      0\n",
       "TVarea_Grampian                     0\n",
       "TVarea_Granada                      0\n",
       "TVarea_HTV                          0\n",
       "TVarea_Meridian                     0\n",
       "TVarea_Scottish TV                  0\n",
       "TVarea_TV South West                0\n",
       "TVarea_Tyne Tees                    0\n",
       "TVarea_Ulster                       0\n",
       "TVarea_Unknown                      0\n",
       "TVarea_Yorkshire                    0\n",
       "gender_Male                         0\n",
       "gender_Unknown                      0\n",
       "region_East Anglia                  0\n",
       "region_East Midlands                0\n",
       "region_Isle of Man                  0\n",
       "region_North                        0\n",
       "region_North West                   0\n",
       "region_Northern Ireland             0\n",
       "region_Scotland                     0\n",
       "region_South East                   0\n",
       "region_South West                   0\n",
       "region_Unknown                      0\n",
       "region_Wales                        0\n",
       "region_West Midlands                0\n",
       "Length: 96, dtype: int64"
      ]
     },
     "execution_count": 24,
     "metadata": {},
     "output_type": "execute_result"
    }
   ],
   "source": [
    "bd_all.isnull().sum()"
   ]
  },
  {
   "cell_type": "code",
   "execution_count": 25,
   "metadata": {},
   "outputs": [],
   "source": [
    "bd_all.loc[bd_all[\"children\"].isnull(),\"children\"]=bd_all.loc[bd_all[\"data\"]==\"train\",\"children\"].mean()"
   ]
  },
  {
   "cell_type": "code",
   "execution_count": 30,
   "metadata": {},
   "outputs": [],
   "source": [
    "from sklearn.linear_model import LogisticRegression\n",
    "from sklearn.model_selection import GridSearchCV"
   ]
  },
  {
   "cell_type": "code",
   "execution_count": 32,
   "metadata": {},
   "outputs": [
    {
     "name": "stderr",
     "output_type": "stream",
     "text": [
      "C:\\Users\\anike\\Anaconda3\\lib\\site-packages\\pandas\\core\\frame.py:3697: SettingWithCopyWarning: \n",
      "A value is trying to be set on a copy of a slice from a DataFrame\n",
      "\n",
      "See the caveats in the documentation: http://pandas.pydata.org/pandas-docs/stable/indexing.html#indexing-view-versus-copy\n",
      "  errors=errors)\n"
     ]
    }
   ],
   "source": [
    "bd_train = bd_all[bd_all[\"data\"]==\"train\"]\n",
    "del bd_train[\"data\"]\n",
    "bd_test = bd_all[bd_all[\"data\"]==\"test\"]\n",
    "bd_test.drop([\"Revenue.Grid\",\"data\"],axis =1,inplace =True)"
   ]
  },
  {
   "cell_type": "code",
   "execution_count": null,
   "metadata": {},
   "outputs": [],
   "source": []
  },
  {
   "cell_type": "code",
   "execution_count": 36,
   "metadata": {},
   "outputs": [],
   "source": [
    "params = {\"class_weight\":[\"balanced\",None],\n",
    "         \"penalty\": [\"l1\",\"l2\"],\n",
    "         \"C\":np.linspace(0.01,1000,10)}"
   ]
  },
  {
   "cell_type": "code",
   "execution_count": 28,
   "metadata": {},
   "outputs": [],
   "source": [
    "model = LogisticRegression(fit_intercept=True)"
   ]
  },
  {
   "cell_type": "code",
   "execution_count": 37,
   "metadata": {},
   "outputs": [],
   "source": [
    "grid_search = GridSearchCV(model,param_grid=params,cv=5,scoring=\"roc_auc\")"
   ]
  },
  {
   "cell_type": "code",
   "execution_count": 34,
   "metadata": {},
   "outputs": [],
   "source": [
    "x_train = bd_train.drop([\"Revenue.Grid\"],axis = 1)\n",
    "y_train = bd_train[\"Revenue.Grid\"]"
   ]
  },
  {
   "cell_type": "code",
   "execution_count": 38,
   "metadata": {},
   "outputs": [
    {
     "data": {
      "text/plain": [
       "GridSearchCV(cv=5, error_score='raise',\n",
       "       estimator=LogisticRegression(C=1.0, class_weight=None, dual=False, fit_intercept=True,\n",
       "          intercept_scaling=1, max_iter=100, multi_class='ovr', n_jobs=1,\n",
       "          penalty='l2', random_state=None, solver='liblinear', tol=0.0001,\n",
       "          verbose=0, warm_start=False),\n",
       "       fit_params=None, iid=True, n_jobs=1,\n",
       "       param_grid={'class_weight': ['balanced', None], 'penalty': ['l1', 'l2'], 'C': array([1.0000e-02, 1.1112e+02, 2.2223e+02, 3.3334e+02, 4.4445e+02,\n",
       "       5.5556e+02, 6.6667e+02, 7.7778e+02, 8.8889e+02, 1.0000e+03])},\n",
       "       pre_dispatch='2*n_jobs', refit=True, return_train_score='warn',\n",
       "       scoring='roc_auc', verbose=0)"
      ]
     },
     "execution_count": 38,
     "metadata": {},
     "output_type": "execute_result"
    }
   ],
   "source": [
    "grid_search.fit(x_train,y_train)"
   ]
  },
  {
   "cell_type": "code",
   "execution_count": 39,
   "metadata": {},
   "outputs": [
    {
     "data": {
      "text/plain": [
       "LogisticRegression(C=0.01, class_weight='balanced', dual=False,\n",
       "          fit_intercept=True, intercept_scaling=1, max_iter=100,\n",
       "          multi_class='ovr', n_jobs=1, penalty='l1', random_state=None,\n",
       "          solver='liblinear', tol=0.0001, verbose=0, warm_start=False)"
      ]
     },
     "execution_count": 39,
     "metadata": {},
     "output_type": "execute_result"
    }
   ],
   "source": [
    "grid_search.best_estimator_"
   ]
  },
  {
   "cell_type": "code",
   "execution_count": 42,
   "metadata": {},
   "outputs": [],
   "source": [
    "logr = grid_search.best_estimator_"
   ]
  },
  {
   "cell_type": "code",
   "execution_count": 43,
   "metadata": {},
   "outputs": [
    {
     "data": {
      "text/plain": [
       "LogisticRegression(C=0.01, class_weight='balanced', dual=False,\n",
       "          fit_intercept=True, intercept_scaling=1, max_iter=100,\n",
       "          multi_class='ovr', n_jobs=1, penalty='l1', random_state=None,\n",
       "          solver='liblinear', tol=0.0001, verbose=0, warm_start=False)"
      ]
     },
     "execution_count": 43,
     "metadata": {},
     "output_type": "execute_result"
    }
   ],
   "source": [
    "logr.fit(x_train,y_train)"
   ]
  },
  {
   "cell_type": "code",
   "execution_count": 41,
   "metadata": {},
   "outputs": [],
   "source": [
    "cutoffs = np.linspace(0.01,0.99,99)"
   ]
  },
  {
   "cell_type": "code",
   "execution_count": 45,
   "metadata": {},
   "outputs": [],
   "source": [
    "train_score = logr.predict_proba(x_train)[:,1]\n",
    "real = y_train"
   ]
  },
  {
   "cell_type": "code",
   "execution_count": 47,
   "metadata": {},
   "outputs": [],
   "source": [
    "KS_all=[]\n",
    "for cutoff in cutoffs:\n",
    "    predicted = (train_score>cutoff).astype(int)\n",
    "    TP = ((predicted ==1) & (real==1)).sum()\n",
    "    TN = ((predicted ==0) & (real==0)).sum()\n",
    "    FP = ((predicted ==1) & (real==0)).sum()\n",
    "    FN = ((predicted ==0) & (real==1)).sum()\n",
    "    \n",
    "    P = TP+FN\n",
    "    N = TN+FP\n",
    "    KS= (TP/P)-(FP/N)\n",
    "    KS_all.append(KS)"
   ]
  },
  {
   "cell_type": "code",
   "execution_count": 51,
   "metadata": {},
   "outputs": [
    {
     "data": {
      "text/plain": [
       "0.5"
      ]
     },
     "execution_count": 51,
     "metadata": {},
     "output_type": "execute_result"
    }
   ],
   "source": [
    "mycutoff = cutoffs[KS_all==max(KS_all)][0]\n",
    "mycutoff"
   ]
  },
  {
   "cell_type": "code",
   "execution_count": 53,
   "metadata": {},
   "outputs": [],
   "source": [
    "test_score = logr.predict_proba(bd_test)[:,1]"
   ]
  },
  {
   "cell_type": "code",
   "execution_count": 54,
   "metadata": {},
   "outputs": [],
   "source": [
    "test_classes = (test_score>mycutoff).astype(int)"
   ]
  },
  {
   "cell_type": "code",
   "execution_count": 56,
   "metadata": {},
   "outputs": [],
   "source": [
    "pd.DataFrame(test_classes).to_csv(\"Predictions.csv\",index=False)"
   ]
  },
  {
   "cell_type": "code",
   "execution_count": null,
   "metadata": {},
   "outputs": [],
   "source": []
  },
  {
   "cell_type": "code",
   "execution_count": null,
   "metadata": {},
   "outputs": [],
   "source": []
  }
 ],
 "metadata": {
  "kernelspec": {
   "display_name": "Python 3",
   "language": "python",
   "name": "python3"
  },
  "language_info": {
   "codemirror_mode": {
    "name": "ipython",
    "version": 3
   },
   "file_extension": ".py",
   "mimetype": "text/x-python",
   "name": "python",
   "nbconvert_exporter": "python",
   "pygments_lexer": "ipython3",
   "version": "3.7.0"
  }
 },
 "nbformat": 4,
 "nbformat_minor": 2
}
